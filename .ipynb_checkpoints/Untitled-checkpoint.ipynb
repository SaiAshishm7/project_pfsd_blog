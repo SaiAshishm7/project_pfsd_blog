{
 "cells": [
  {
   "cell_type": "code",
   "execution_count": null,
   "id": "e0addcba",
   "metadata": {},
   "outputs": [],
   "source": [
    "print(\"hello\")"
   ]
  },
  {
   "cell_type": "code",
   "execution_count": null,
   "id": "4ea1ef94",
   "metadata": {},
   "outputs": [],
   "source": [
    "\"ashish\"*3"
   ]
  },
  {
   "cell_type": "code",
   "execution_count": null,
   "id": "f41c1b3d",
   "metadata": {},
   "outputs": [],
   "source": [
    "x = (int(input(\"Enter x: \")))\n",
    "print(x)"
   ]
  },
  {
   "cell_type": "code",
   "execution_count": null,
   "id": "96528118",
   "metadata": {},
   "outputs": [],
   "source": [
    "print(\"hi\")"
   ]
  },
  {
   "cell_type": "code",
   "execution_count": null,
   "id": "5dfdad58",
   "metadata": {},
   "outputs": [],
   "source": [
    "print(\"python is fun\")."
   ]
  },
  {
   "cell_type": "code",
   "execution_count": null,
   "id": "39ada5da",
   "metadata": {},
   "outputs": [],
   "source": [
    "print(\"hi\");print('world')"
   ]
  },
  {
   "cell_type": "code",
   "execution_count": null,
   "id": "d09f9bd6",
   "metadata": {},
   "outputs": [],
   "source": [
    "print(' ')"
   ]
  },
  {
   "cell_type": "code",
   "execution_count": null,
   "id": "cb67b17e",
   "metadata": {},
   "outputs": [],
   "source": [
    "print(34 + 1)\n",
    "print(3.4 + 1)\n",
    "print(34.0 - 1.9)\n",
    "print(34 // 3.1)\n",
    "print(34 % 2)\n",
    "print(4 ** 3)"
   ]
  },
  {
   "cell_type": "code",
   "execution_count": null,
   "id": "004032ec",
   "metadata": {},
   "outputs": [],
   "source": [
    "6 ** 2 + 6"
   ]
  },
  {
   "cell_type": "code",
   "execution_count": null,
   "id": "551a3eed",
   "metadata": {},
   "outputs": [],
   "source": [
    "a = 1000000000\n",
    "print(a)\n",
    "\n",
    "b = 1_000_000\n",
    "print(b)\n",
    "\n",
    "c = 1e-6\n",
    "print(c)\n",
    "\n",
    "d = 1e-4\n",
    "print(d)\n",
    "\n",
    "e = 200000000000000000000000000.0\n",
    "print(e)\n",
    "\n",
    "f = -2e400\n",
    "print(f)\n",
    "\n",
    "g = 2e400\n",
    "print(g)"
   ]
  },
  {
   "cell_type": "code",
   "execution_count": null,
   "id": "4a96a0b6",
   "metadata": {},
   "outputs": [],
   "source": [
    "print(1 - - 3)\n",
    "print(1-- 3)\n",
    "print(1 - (-3))"
   ]
  },
  {
   "cell_type": "code",
   "execution_count": null,
   "id": "c984ff11",
   "metadata": {},
   "outputs": [],
   "source": [
    "1/0"
   ]
  },
  {
   "cell_type": "code",
   "execution_count": null,
   "id": "4718b62d",
   "metadata": {},
   "outputs": [],
   "source": [
    "print(5 % -3)\n",
    "print(-5 % 3)\n",
    "print(-5 % -3)"
   ]
  },
  {
   "cell_type": "code",
   "execution_count": null,
   "id": "9f83f896",
   "metadata": {},
   "outputs": [],
   "source": [
    "print((3 + 4)*2 - 5**2/5)"
   ]
  },
  {
   "cell_type": "code",
   "execution_count": null,
   "id": "73479fc4",
   "metadata": {},
   "outputs": [],
   "source": [
    "print((4 / 6 + 5**3%4 - 3))"
   ]
  },
  {
   "cell_type": "code",
   "execution_count": null,
   "id": "aad433fa",
   "metadata": {},
   "outputs": [],
   "source": [
    "a = 5\n",
    "print(type(a))\n",
    "\n",
    "b = 4.0\n",
    "print(type(b))\n",
    "\n",
    "c = 2j+4\n",
    "print(type(c))\n",
    "print(c.real)\n",
    "print(c.imag)"
   ]
  },
  {
   "cell_type": "code",
   "execution_count": null,
   "id": "13b0d0e6",
   "metadata": {},
   "outputs": [],
   "source": [
    "b = 5.0\n",
    "b = int(b)\n",
    "print(b)\n",
    "print(type(b))"
   ]
  },
  {
   "cell_type": "code",
   "execution_count": null,
   "id": "6770d7ea",
   "metadata": {},
   "outputs": [],
   "source": [
    "string = '''Hello this is an string \n",
    "            hi how are you\n",
    "          '''\n",
    "print(string)\n",
    "print(type(string))"
   ]
  },
  {
   "cell_type": "code",
   "execution_count": null,
   "id": "b70d2b55",
   "metadata": {},
   "outputs": [],
   "source": [
    "str = (input(\"Enter the string:\"))\n",
    "print(f'this string has:{len(str)}')\n",
    "print(str[0])\n",
    "print(str[-1])"
   ]
  },
  {
   "cell_type": "code",
   "execution_count": null,
   "id": "16ce80ac",
   "metadata": {},
   "outputs": [],
   "source": [
    "Name = input(\"Enter your name:\")\n",
    "Roll_no = eval(input(\"Enter your roll No:\"))\n",
    "marks_obtained = eval(input(\"Enter marks you obtained:\"))\n",
    "Total_marks = eval(input(\"Enter total marks :\"))\n",
    "print(f'The candidate name is:{Name}\\nThe candidate rollnumber is:{Roll_no}\\nThe candidate marks are:{(marks_obtained / Total_marks) * 100}%')"
   ]
  },
  {
   "cell_type": "code",
   "execution_count": null,
   "id": "1700a056",
   "metadata": {},
   "outputs": [],
   "source": [
    "import time\n",
    "\n",
    "start_time = time.time()\n",
    "\n",
    "Roll_no = eval(input(\"Enter your roll No:\"))\n",
    "\n",
    "if len(str(Roll_no)) != 10:\n",
    "    print(\"Enter valid roll number.\")\n",
    "else:\n",
    "    Name = input(\"Enter your name:\")\n",
    "    marks_obtained = int(input(\"Enter marks you obtained:\"))\n",
    "    Total_marks = int(input(\"Enter total marks:\"))\n",
    "    percentage = (marks_obtained / Total_marks) * 100\n",
    "    print(f'The candidate name is: {Name}\\nThe candidate roll number is: {Roll_no}\\nThe candidate marks are: {percentage:.2f}%')\n",
    "\n",
    "end_time = time.time()\n",
    "execution_time = end_time - start_time\n",
    "print(f\"Execution time: {execution_time} seconds\")\n"
   ]
  },
  {
   "cell_type": "code",
   "execution_count": null,
   "id": "f7d75eec",
   "metadata": {},
   "outputs": [],
   "source": [
    "my_list = ['masserati', 'volvo', 'BMW', ['hi'], 2310080058]\n",
    "print(my_list)\n",
    "print(my_list[0])      # prints the first element in the list\n",
    "print(my_list[2])      # prints the third element in the list\n",
    "print(my_list[0:3])    # prints elements from index 0 to 2 (excluding 3)\n",
    "print(my_list[0][0])   # prints the first character of the first element\n",
    "print(my_list[-1])     # prints the last element in the list (a nested list)\n",
    "print(str(my_list[-1])[0])  # prints the first digit of the roll number\n",
    "print(my_list[::-1])   # prints the reverse of the list\n",
    "print('masserati' in my_list)  # checks if 'masserati' is in the list\n",
    "print(my_list[:])      # prints a copy of the entire list\n",
    "print(len(str(my_list[4])))  # prints the length of the roll number as a string\n",
    "\n",
    "if\n",
    "    print(\"AI-DS\")\n",
    "else:\n",
    "    print(\"not ai-ds\")\n"
   ]
  },
  {
   "cell_type": "code",
   "execution_count": null,
   "id": "2aa34142",
   "metadata": {},
   "outputs": [],
   "source": [
    "#lists are ordered\n",
    "\n",
    "my_list = [\"hi\",\"ih\"]\n",
    "no_list = [\"ih\",\"hi\"]\n",
    "my_list == no_list"
   ]
  },
  {
   "cell_type": "code",
   "execution_count": null,
   "id": "0f58191d",
   "metadata": {},
   "outputs": [],
   "source": [
    "# lists are mutable in nature\n",
    "\n",
    "my_list = ['hi','bonjour']\n",
    "anoter_list = my_list + ['namaste','hello'] + [['hola']]\n",
    "\n",
    "print(anoter_list)\n",
    "print(my_list*2)"
   ]
  },
  {
   "cell_type": "code",
   "execution_count": null,
   "id": "46e251fc",
   "metadata": {},
   "outputs": [],
   "source": [
    "anoter_list = [[231190+4]]\n",
    "print(len(str(int(anoter_list[0].real))))"
   ]
  },
  {
   "cell_type": "code",
   "execution_count": null,
   "id": "780de4dc",
   "metadata": {},
   "outputs": [],
   "source": [
    "my_list = ['car','bikes','suv','fwd']\n",
    "print(my_list)\n",
    "\n",
    "my_list[0] = 'RWD'\n",
    "print(my_list)\n",
    "\n",
    "my_list [-1] = 2\n",
    "print(my_list)\n",
    "\n",
    "my_list[-3:-1] = [3,4]\n",
    "print(my_list)\n",
    "\n",
    "my_list[-1:-4] = [5,6,7,8,'jk']\n",
    "print(my_list)"
   ]
  },
  {
   "cell_type": "code",
   "execution_count": null,
   "id": "7b8f70df",
   "metadata": {},
   "outputs": [],
   "source": [
    "# we use pop when we want the popped/removed element to be stored in another variable\n",
    "my_list = [3,7,8,9,4,1]\n",
    "pop_ele = my_list.pop(3)\n",
    "print(my_list)\n",
    "\n",
    "# remove to remove the ele which is first\n",
    "my_list = ['hi','gn','gm','gm']\n",
    "my_list.remove('gm')\n",
    "print(my_list)\n",
    "\n",
    "# del deletes the selected range of list\n",
    "my_list = [6,7,8,9,3,4]\n",
    "del my_list[-3:-1]\n",
    "print(my_list)"
   ]
  },
  {
   "cell_type": "code",
   "execution_count": null,
   "id": "b05d6357",
   "metadata": {},
   "outputs": [],
   "source": [
    "import time\n",
    "\n",
    "# Time measurement for pop operation\n",
    "start_time = time.time()\n",
    "my_list = [3, 7, 8, 9, 4, 1]\n",
    "pop_ele = my_list.pop(3)\n",
    "end_time = time.time()\n",
    "pop_time = end_time - start_time\n",
    "\n",
    "# Time measurement for remove operation\n",
    "start_time = time.time()\n",
    "my_list = ['hi', 'gn', 'gm', 'gm']\n",
    "my_list.remove('gm')\n",
    "end_time = time.time()\n",
    "remove_time = end_time - start_time\n",
    "\n",
    "# Time measurement for del operation\n",
    "start_time = time.time()\n",
    "my_list = [6, 7, 8, 9, 3, 4]\n",
    "del my_list[-3:-1]\n",
    "end_time = time.time()\n",
    "del_time = end_time - start_time\n",
    "\n",
    "# Print the results\n",
    "print(f\"Time for pop operation: {pop_time:.6f} seconds\")\n",
    "print(f\"Time for remove operation: {remove_time:.6f} seconds\")\n",
    "print(f\"Time for del operation: {del_time:.6f} seconds\")\n"
   ]
  },
  {
   "cell_type": "code",
   "execution_count": null,
   "id": "64e96cc9",
   "metadata": {},
   "outputs": [],
   "source": [
    "#mt_list.insert(<index>, obj)\n",
    "my_list = ['ho','hi','jkl','lkj']\n",
    "my_list.insert(4,'obj')\n",
    "print(my_list)\n",
    "\n",
    "#my_list.extend([iterables])\n",
    "my_list = ['vol','mas','lam','aud']\n",
    "my_list.extend(['ds'])\n",
    "print(my_list)\n",
    "\n",
    "#my_list.append([iterables])\n",
    "my_list = ['vol','mas','lam','aud']\n",
    "my_list.append('ds')\n",
    "print(my_list)"
   ]
  },
  {
   "cell_type": "code",
   "execution_count": null,
   "id": "9245057b",
   "metadata": {},
   "outputs": [],
   "source": [
    "no_values = int(input(\"Enter the size of the list:\"))\n",
    "\n",
    "my_list = []  \n",
    "\n",
    "for i in range(no_values):\n",
    "    value = int(input(\"Enter a value: \"))\n",
    "    my_list.append(value)\n",
    "\n",
    "even_elements = []\n",
    "for x in my_list:\n",
    "    if x % 2 == 0:\n",
    "        even_elements.append(x)\n",
    "\n",
    "print(\"Entered list:\", my_list)\n",
    "print(\"Even elements in the list:\", even_elements)"
   ]
  },
  {
   "cell_type": "code",
   "execution_count": null,
   "id": "8461bb69",
   "metadata": {},
   "outputs": [],
   "source": [
    "my_tuple = (\"lam\",'ham','bam')\n",
    "print(my_tuple)\n",
    "print(type(my_tuple))\n",
    "print(my_tuple[::-1])"
   ]
  },
  {
   "cell_type": "code",
   "execution_count": null,
   "id": "ec1b4944",
   "metadata": {},
   "outputs": [],
   "source": [
    "#A dictionary consists of a collection of key-value pairs. Each key-value pair maps the key to its associated value.\n",
    "\n",
    "#You can define a dictionary by enclosing a comma-separated list of key-value pairs in curly braces ({}). \n",
    "#A colon (:) separates each key from its associated value.\n",
    "\n",
    "\n",
    "my_dict = {\n",
    "    'GERMANY' : 'PORSCHE',\n",
    "    'KOREA'   : 'HYUNDAI',\n",
    "    'SWEDEN'   : 'KOENIGSEGG',\n",
    "    'INDIA'   : 'MAHINDRA'\n",
    "}\n",
    "print(my_dict)\n",
    "print(type(my_dict))\n",
    "print(len(my_dict))"
   ]
  },
  {
   "cell_type": "code",
   "execution_count": null,
   "id": "0ded418c",
   "metadata": {},
   "outputs": [],
   "source": [
    "print('INDIA' in my_dict) # it is case senstive so other than org dict it wont work"
   ]
  },
  {
   "cell_type": "code",
   "execution_count": null,
   "id": "95a8a29d",
   "metadata": {},
   "outputs": [],
   "source": [
    "my_dict['SWEDEN'] # we can only call the key by it key name not using numeric values"
   ]
  },
  {
   "cell_type": "code",
   "execution_count": null,
   "id": "7e14771f",
   "metadata": {},
   "outputs": [],
   "source": [
    "print(my_dict.keys())\n",
    "print(my_dict.values())"
   ]
  },
  {
   "cell_type": "code",
   "execution_count": null,
   "id": "2edb3cd0",
   "metadata": {},
   "outputs": [],
   "source": [
    "my_dict['ITALY'] = 'ALFA ROMEO'\n",
    "my_dict"
   ]
  },
  {
   "cell_type": "code",
   "execution_count": null,
   "id": "7f4a171e",
   "metadata": {},
   "outputs": [],
   "source": [
    "ERP = {}\n",
    "ERP['First name'] = 'Sai'\n",
    "ERP['Last name'] = 'Ashish'\n",
    "ERP['Roll_no'] = 2310080058\n",
    "ERP['department'] = 'AI&DS'\n",
    "ERP['Courses'] = ['Python', 'BEEC', 'LAC']\n",
    "ERP['ALM'] = {'ALM1': 'QUIZ', 'ALM2': 'ASSIGNMENT'}\n",
    "print(ERP)\n"
   ]
  },
  {
   "cell_type": "code",
   "execution_count": null,
   "id": "683ea109",
   "metadata": {},
   "outputs": [],
   "source": [
    "#Dictionary in a List \n",
    "My_List = ['Apple', 'Ball', 'Cat', 'Dog', 'Eagle', {'F' : 'Fruit', 'G' : 'Giraffe', 'H' : 'Horse'}]\n",
    "print(My_List)\n",
    "\n",
    "My_List[-1]['F']"
   ]
  },
  {
   "cell_type": "code",
   "execution_count": null,
   "id": "76d7e5bd",
   "metadata": {},
   "outputs": [],
   "source": [
    "yo_dict = {'a':20, 'b':56, 'c':34}\n",
    "print(yo_dict.get('c'))\n",
    "print(yo_dict.get('s'))"
   ]
  },
  {
   "cell_type": "code",
   "execution_count": null,
   "id": "21d66516",
   "metadata": {},
   "outputs": [],
   "source": [
    "ERP.clear()\n",
    "ERP"
   ]
  },
  {
   "cell_type": "code",
   "execution_count": null,
   "id": "d34c0725",
   "metadata": {},
   "outputs": [],
   "source": [
    "yo_dict.clear()\n",
    "yo_dict"
   ]
  },
  {
   "cell_type": "code",
   "execution_count": null,
   "id": "a47fffca",
   "metadata": {},
   "outputs": [],
   "source": [
    "yo_dict = {'a':20, 'b':56, 'c':34}\n",
    "\n",
    "print(list(yo_dict.items()))\n",
    "print(type(list(yo_dict.items())[1][0]))\n",
    "print(list(yo_dict.items())[2][1])"
   ]
  },
  {
   "cell_type": "code",
   "execution_count": null,
   "id": "4d5a877b",
   "metadata": {},
   "outputs": [],
   "source": [
    "d = {'a': 34, 'Name': input('Enter your name:'), 'c': 56}\n",
    "\n",
    "print(list(d.items())[1][1][::-1])"
   ]
  },
  {
   "cell_type": "code",
   "execution_count": null,
   "id": "f8a31a9c",
   "metadata": {},
   "outputs": [],
   "source": [
    "yo_dict = {'a':20, 'b':56, 'c':34}\n",
    "yo_dict.pop('b')\n",
    "yo_dict "
   ]
  },
  {
   "cell_type": "code",
   "execution_count": null,
   "id": "3f0f923c",
   "metadata": {},
   "outputs": [],
   "source": [
    "yo_dict = {'a':20, 'b':56, 'c':34}\n",
    "print(yo_dict.popitem())\n",
    "yo_dict"
   ]
  },
  {
   "cell_type": "code",
   "execution_count": null,
   "id": "99e7e006",
   "metadata": {},
   "outputs": [],
   "source": [
    "d1 = { 'a':'ashish','b' : 'ash',\"c\" : 78}\n",
    "d1.update(b = 'ASHU',d = 800 )\n",
    "d1"
   ]
  },
  {
   "cell_type": "code",
   "execution_count": null,
   "id": "4752020f",
   "metadata": {},
   "outputs": [],
   "source": [
    "my_set = set(['ashish','lamborghini','porsche','koenigsegg'])\n",
    "print(type(my_set))\n",
    "print(len(my_set))\n",
    "print(my_set)"
   ]
  },
  {
   "cell_type": "code",
   "execution_count": null,
   "id": "379df66c",
   "metadata": {},
   "outputs": [],
   "source": [
    "my_set = 'hello'\n",
    "print(list(my_set))\n",
    "print(set(my_set))  \n",
    "# print(set(my_set)) reason for arbitary or unorderd print is because python stores values in hash forms which are unordered."
   ]
  },
  {
   "cell_type": "code",
   "execution_count": null,
   "id": "c9bb46a3",
   "metadata": {},
   "outputs": [],
   "source": [
    "print({' oho '})\n",
    "print(set('oho'))\n",
    "print(set({'oho'}))"
   ]
  },
  {
   "cell_type": "code",
   "execution_count": null,
   "id": "aecae25d",
   "metadata": {
    "scrolled": true
   },
   "outputs": [],
   "source": [
    "import math\n",
    "my_set = {42, 'ashu' , math.pi}\n",
    "print(my_set)\n",
    "42 in my_set"
   ]
  },
  {
   "cell_type": "code",
   "execution_count": null,
   "id": "e6be2ed7",
   "metadata": {},
   "outputs": [],
   "source": [
    "set1 = {'ashu' , 'hi' , 'gm'}\n",
    "set2 = { 42 , 1+8j, 'gm'}\n",
    "print(set1 | set2)\n",
    "print(set1.union(set2))"
   ]
  },
  {
   "cell_type": "code",
   "execution_count": null,
   "id": "20075c60",
   "metadata": {},
   "outputs": [],
   "source": [
    "a = {1,2,3,4}\n",
    "b = {1,2,7,4}\n",
    "c = {1,2,3,5}\n",
    "d = {1,6,3,4}\n",
    "print(a|b|c|d) #set elememts are not accessible like list or tuple instead type cast to list then access them"
   ]
  },
  {
   "cell_type": "code",
   "execution_count": null,
   "id": "9df20aaa",
   "metadata": {},
   "outputs": [],
   "source": [
    "a = {2,1,0,8,'a','s','h','u'}\n",
    "print(list(a))"
   ]
  },
  {
   "cell_type": "code",
   "execution_count": null,
   "id": "fa4fdbbd",
   "metadata": {},
   "outputs": [],
   "source": [
    "set1 = {'ashu' , 'hi' , 'gm'}\n",
    "set2 = { 42 , 1+8j, 'gm'}\n",
    "print(set1.intersection(set2)) \n",
    "print(set1&set2)  "
   ]
  },
  {
   "cell_type": "code",
   "execution_count": null,
   "id": "b30ba713",
   "metadata": {},
   "outputs": [],
   "source": [
    "set1 = {'ashu' , 'hi' , 'g'}\n",
    "set2 = { 42 , 1+8j, 'gm'}\n",
    "print(set1.intersection(set2)) \n",
    "print(set1&set2)  #if there are no common elements then the python returns null value i.e set()"
   ]
  },
  {
   "cell_type": "code",
   "execution_count": null,
   "id": "8c016ae9",
   "metadata": {},
   "outputs": [],
   "source": [
    "set1 = {'ashu' , 'hi' , 'gm'}\n",
    "set2 = { 42 , 1+8j, 'gm'}\n",
    "print(set1.intersection(set2)) \n",
    "print(set1&set2)  \n",
    "set3 = set1.intersection(set2)\n",
    "\n",
    "print(type(set3))"
   ]
  },
  {
   "cell_type": "code",
   "execution_count": null,
   "id": "9093382d",
   "metadata": {},
   "outputs": [],
   "source": [
    " a = {1,2,3,4,''}\n",
    "b = {1,2,7,4,''}\n",
    "c = {1,2,3,5,''}\n",
    "d = {1,6,3,4,''}\n",
    "a.intersection(b,c,d)"
   ]
  },
  {
   "cell_type": "code",
   "execution_count": null,
   "id": "8d9cae75",
   "metadata": {},
   "outputs": [],
   "source": [
    " a = {1,2,3,4,' '}\n",
    "b = {1,2,7,4,''}\n",
    "c = {1,2,3,5,''}\n",
    "d = {1,6,3,4,''}\n",
    "a.intersection(b,c,d) #each space matters"
   ]
  },
  {
   "cell_type": "code",
   "execution_count": null,
   "id": "96584573",
   "metadata": {},
   "outputs": [],
   "source": [
    "a = {1,2,3,4}\n",
    "b = {1,2,7,4}\n",
    "print(a.difference(b)) #this only returns values which are not there in a \n",
    "print(a-b)"
   ]
  },
  {
   "cell_type": "code",
   "execution_count": null,
   "id": "58fd186f",
   "metadata": {},
   "outputs": [],
   "source": [
    "a = {1,2,3,30,300}\n",
    "b = {10,20,20,400}\n",
    "c = {100,200,200,40}\n",
    "print(a.difference(b,c))\n",
    "print(a - b - c)"
   ]
  },
  {
   "cell_type": "code",
   "execution_count": null,
   "id": "e1ca8704",
   "metadata": {},
   "outputs": [],
   "source": [
    "set1 = {'ashu' , 42 , 'gm'}\n",
    "set2 = { 42 , 1+8j, 'gm'}\n",
    "print(set1.symmetric_difference(set2)) # returns the diff elements but not the common ones\n",
    "print(set1 ^ set2) "
   ]
  },
  {
   "cell_type": "code",
   "execution_count": null,
   "id": "e5e70fff",
   "metadata": {},
   "outputs": [],
   "source": [
    "import random\n",
    "import string\n",
    "\n",
    "def generate_password(length):\n",
    "    characters = string.ascii_letters + string.digits + string.punctuation\n",
    "    return ''.join(random.choice(characters) for _ in range(length))\n",
    "\n",
    "length = 10\n",
    "print(generate_password(length))\n"
   ]
  },
  {
   "cell_type": "code",
   "execution_count": null,
   "id": "dec04087",
   "metadata": {},
   "outputs": [],
   "source": [
    "import turtle\n",
    "\n",
    "def koch_curve(t, order, size):\n",
    "    if order == 0:\n",
    "        t.forward(size)\n",
    "    else:\n",
    "        for angle in [60, -120, 60, 0]:\n",
    "            koch_curve(t, order-1, size/3)\n",
    "            t.left(angle)\n",
    "\n",
    "def koch_snowflake(t, order, size):\n",
    "    for _ in range(3):\n",
    "        koch_curve(t, order, size)\n",
    "        t.right(120)\n",
    "\n",
    "window = turtle.Screen()\n",
    "t = turtle.Turtle()\n",
    "t.speed(0)\n",
    "t.penup()\n",
    "t.goto(-150, 90)\n",
    "t.pendown()\n",
    "koch_snowflake(t, 4, 300)\n",
    "window.mainloop()\n"
   ]
  },
  {
   "cell_type": "code",
   "execution_count": null,
   "id": "82d8306b",
   "metadata": {},
   "outputs": [],
   "source": [
    "s1 = {'ht','lki','kol','klo'}\n",
    "s2 = {'kil','lok','opl','jkl'} #returns bool value true if there are no common elements\n",
    "print(s1.isdisjoint(s2))\n",
    "print(s2 - {'lok'})"
   ]
  },
  {
   "cell_type": "code",
   "execution_count": null,
   "id": "f35f7bb7",
   "metadata": {},
   "outputs": [],
   "source": [
    "s1 = {'ht','lki','kol','klo'}\n",
    "s2 = {'kil','lok','opl','jkl'}\n",
    "print(s1.isdisjoint(s2))  #if s1 isdisjoint s2 is true then s1 & s2 is empty set\n",
    "s1 & s2"
   ]
  },
  {
   "cell_type": "code",
   "execution_count": null,
   "id": "30413cfe",
   "metadata": {},
   "outputs": [],
   "source": [
    "s1 = {'ht','kil','opl','klo'}\n",
    "s2 = {'kil','klo','opl','jkl'}  # returns true if every element of s1 is in s2\n",
    "\n",
    "print(s1.issubset(s2))\n",
    "print(s1 <= s2)"
   ]
  },
  {
   "cell_type": "code",
   "execution_count": null,
   "id": "008081d1",
   "metadata": {},
   "outputs": [],
   "source": [
    "s1 = {'kil','opl','klo','guh'}\n",
    "s2 = {'kil','klo','opl'}   # returns true if evry element of s2 is in s1\n",
    "\n",
    "print(s1.issuperset(s2))\n",
    "print(s1 >= s2)"
   ]
  },
  {
   "cell_type": "code",
   "execution_count": null,
   "id": "624f9f99",
   "metadata": {},
   "outputs": [],
   "source": [
    "set1 = {'ashu' , 'hi' , 'gm'}\n",
    "set2 = { 'ashu', 'hi', 'gm','gun'}\n",
    "set1 |= set2\n",
    "print(set1)\n",
    "print(set2)\n",
    "#s1.update and s1|=s2 add those elements to set1 that are present in set2 but not in set1.\n",
    "set1.update({'bbq','thug'})\n",
    "print(set1)\n",
    "print(set2)"
   ]
  },
  {
   "cell_type": "code",
   "execution_count": null,
   "id": "3a8a3708",
   "metadata": {},
   "outputs": [],
   "source": [
    "s1 = {'ashu' , 'hi' , 'gm'}\n",
    "s2 = { 'ashu', 'hi', 'gm','gun'}\n",
    "\n",
    "s1 &= s2\n",
    "print(s1)\n",
    "\n",
    "s1 = {'hello',1,'gm'}\n",
    "s1.intersection_update(['1',1])\n",
    "print(s1)"
   ]
  },
  {
   "cell_type": "code",
   "execution_count": null,
   "id": "b7c7184e",
   "metadata": {},
   "outputs": [],
   "source": [
    "print(type(True))\n",
    "bool"
   ]
  },
  {
   "cell_type": "code",
   "execution_count": null,
   "id": "124466a7",
   "metadata": {},
   "outputs": [],
   "source": [
    "print(1!=2)\n",
    "print(1 != (1 + 0.0))\n",
    "print(1 != (1 + 0.4))"
   ]
  },
  {
   "cell_type": "code",
   "execution_count": null,
   "id": "b43f60a4",
   "metadata": {},
   "outputs": [],
   "source": [
    "print(5 < 7 and 4 == 4)\n",
    "print(5 > 7 and 4 != 4)\n",
    "print(5 < 6 and 3 > 4)"
   ]
  },
  {
   "cell_type": "code",
   "execution_count": null,
   "id": "f2d9c11c",
   "metadata": {},
   "outputs": [],
   "source": [
    "# Define the list of operations\n",
    "list_op = ['less than','equal to ','greater than ','not equal to']\n",
    "\n",
    "# Get the user's choice of operation\n",
    "op_index = int(input(\"Enter the index of the operation you want to perform: \"))\n",
    "op_index = max(0, min(op_index, len(list_op)-1)) # Ensure the index is within bounds\n",
    "selected_op = list_op[op_index]\n",
    "\n",
    "# Get the 4 inputs\n",
    "inputs = []\n",
    "for i in range(4):\n",
    "    num = float(input(f\"Enter input #{i+1}: \"))\n",
    "    inputs.append(num)\n",
    "\n",
    "# Perform the selected operation on the inputs\n",
    "if selected_op == 'less than':\n",
    "    result = inputs[0] < inputs[1] and inputs[2] < inputs[3]\n",
    "elif selected_op == 'equal to ':\n",
    "    result = inputs[0] == inputs[1] and inputs[2] == inputs[3]\n",
    "elif selected_op == 'greater than ':\n",
    "    result = inputs[0] > inputs[1] and inputs[2] > inputs[3]\n",
    "elif selected_op == 'not equal to':\n",
    "    result = inputs[0] != inputs[1] or inputs[2] != inputs[3]\n",
    "\n",
    "# Print the result\n",
    "print(f\"The result is {result}.\")\n",
    "\n",
    "\n"
   ]
  },
  {
   "cell_type": "code",
   "execution_count": null,
   "id": "5cf62981",
   "metadata": {},
   "outputs": [],
   "source": [
    "from ultralytics import YOLO"
   ]
  },
  {
   "cell_type": "code",
   "execution_count": 1,
   "id": "9de36654",
   "metadata": {},
   "outputs": [
    {
     "name": "stdout",
     "output_type": "stream",
     "text": [
      "True\n"
     ]
    }
   ],
   "source": [
    "#short hand if\n",
    "i = 10\n",
    "print(True) if 1<15 else (False)"
   ]
  },
  {
   "cell_type": "code",
   "execution_count": 2,
   "id": "50128789",
   "metadata": {
    "scrolled": true
   },
   "outputs": [
    {
     "name": "stdout",
     "output_type": "stream",
     "text": [
      "hello\n",
      "hi\n",
      "hola\n"
     ]
    }
   ],
   "source": [
    "my_list = ['hello','hi','hola']\n",
    "for i in my_list:\n",
    "    print(i)"
   ]
  },
  {
   "cell_type": "code",
   "execution_count": 10,
   "id": "c9ff6035",
   "metadata": {},
   "outputs": [
    {
     "name": "stdout",
     "output_type": "stream",
     "text": [
      "a\n",
      "80\n",
      "n\n",
      "90\n",
      "k\n",
      "99\n"
     ]
    }
   ],
   "source": [
    "d = {'a':80,'n':90,'k':99}\n",
    "for u in d:\n",
    "    print(u)\n"
   ]
  },
  {
   "cell_type": "code",
   "execution_count": 11,
   "id": "9371d840",
   "metadata": {},
   "outputs": [
    {
     "name": "stdout",
     "output_type": "stream",
     "text": [
      "80\n",
      "90\n",
      "99\n"
     ]
    }
   ],
   "source": [
    "d = {'a':80,'n':90,'k':99}\n",
    "for u in d:\n",
    "    print(d[u])"
   ]
  },
  {
   "cell_type": "code",
   "execution_count": 13,
   "id": "f2d6b251",
   "metadata": {},
   "outputs": [
    {
     "name": "stdout",
     "output_type": "stream",
     "text": [
      "key = a value = 80\n",
      "key = n value = 90\n",
      "key = k value = 99\n"
     ]
    }
   ],
   "source": [
    "d = {'a':80,'n':90,'k':99}\n",
    "for i,j in d.items():\n",
    "    print('key =' ,i,'value =',j)"
   ]
  },
  {
   "cell_type": "code",
   "execution_count": 15,
   "id": "a0ef070e",
   "metadata": {},
   "outputs": [
    {
     "name": "stdout",
     "output_type": "stream",
     "text": [
      "1 hola\n",
      "2 idaktimas\n",
      "3 bonjour\n"
     ]
    }
   ],
   "source": [
    "for i,j in [(1,'hola'),(2,'idaktimas'),(3,'bonjour')]:\n",
    "    print(i,j)"
   ]
  },
  {
   "cell_type": "code",
   "execution_count": 20,
   "id": "9e77a62f",
   "metadata": {},
   "outputs": [
    {
     "ename": "TypeError",
     "evalue": "type 'range' is not subscriptable",
     "output_type": "error",
     "traceback": [
      "\u001b[0;31m---------------------------------------------------------------------------\u001b[0m",
      "\u001b[0;31mTypeError\u001b[0m                                 Traceback (most recent call last)",
      "Cell \u001b[0;32mIn[20], line 1\u001b[0m\n\u001b[0;32m----> 1\u001b[0m \u001b[38;5;28;01mfor\u001b[39;00m i \u001b[38;5;129;01min\u001b[39;00m \u001b[38;5;28mrange\u001b[39m[\u001b[38;5;124m'\u001b[39m\u001b[38;5;124mhola\u001b[39m\u001b[38;5;124m'\u001b[39m,\u001b[38;5;124m'\u001b[39m\u001b[38;5;124mhi\u001b[39m\u001b[38;5;124m'\u001b[39m,\u001b[38;5;124m'\u001b[39m\u001b[38;5;124myo\u001b[39m\u001b[38;5;124m'\u001b[39m]:\n\u001b[1;32m      2\u001b[0m     \u001b[38;5;28;01mif\u001b[39;00m \u001b[38;5;124m'\u001b[39m\u001b[38;5;124mg\u001b[39m\u001b[38;5;124m'\u001b[39m \u001b[38;5;129;01min\u001b[39;00m i:\n\u001b[1;32m      3\u001b[0m          \u001b[38;5;28;01mbreak\u001b[39;00m\n",
      "\u001b[0;31mTypeError\u001b[0m: type 'range' is not subscriptable"
     ]
    }
   ],
   "source": [
    "for i in range['hola','hi','yo']:\n",
    "    if 'g' in i:\n",
    "         break\n",
    "    print(i)"
   ]
  },
  {
   "cell_type": "code",
   "execution_count": 27,
   "id": "5eeb1d03",
   "metadata": {},
   "outputs": [
    {
     "name": "stdout",
     "output_type": "stream",
     "text": [
      "Country: India\n",
      "City: None\n",
      "State: None\n",
      "Carrier: Telewings\n"
     ]
    }
   ],
   "source": [
    "import phonenumbers\n",
    "from phonenumbers import geocoder, carrier\n",
    "\n",
    "try:\n",
    "    phone_num1 = phonenumbers.parse(\"+91 8523093777\", None)  # Replace with the phone number you want to look up\n",
    "\n",
    "    # Get country and region (city) information\n",
    "    country = geocoder.description_for_number(phone_num1, \"en\")\n",
    "    region_data = geocoder.description_for_number(phone_num1, \"en\").split(', ')\n",
    "    city = region_data[0] if len(region_data) > 1 else None\n",
    "    state = region_data[1] if len(region_data) > 1 else None\n",
    "\n",
    "    # Get carrier information\n",
    "    carrier_name = carrier.name_for_number(phone_num1, \"en\")\n",
    "\n",
    "    print(\"Country:\", country)\n",
    "    print(\"City:\", city)\n",
    "    print(\"State:\", state)\n",
    "    print(\"Carrier:\", carrier_name)\n",
    "except Exception as e:\n",
    "    print(\"An error occurred:\", e)\n"
   ]
  },
  {
   "cell_type": "code",
   "execution_count": null,
   "id": "881e3009",
   "metadata": {},
   "outputs": [],
   "source": [
    "#calculator\n",
    "\n",
    "def calc()"
   ]
  }
 ],
 "metadata": {
  "kernelspec": {
   "display_name": "Python 3 (ipykernel)",
   "language": "python",
   "name": "python3"
  },
  "language_info": {
   "codemirror_mode": {
    "name": "ipython",
    "version": 3
   },
   "file_extension": ".py",
   "mimetype": "text/x-python",
   "name": "python",
   "nbconvert_exporter": "python",
   "pygments_lexer": "ipython3",
   "version": "3.11.5"
  }
 },
 "nbformat": 4,
 "nbformat_minor": 5
}
