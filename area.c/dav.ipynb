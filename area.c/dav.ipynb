{
 "cells": [
  {
   "cell_type": "code",
   "execution_count": 5,
   "metadata": {},
   "outputs": [
    {
     "name": "stdout",
     "output_type": "stream",
     "text": [
      "Original Array:\n",
      " [[256 254 254 253]\n",
      " [251 255 240 243]\n",
      " [240 241 256 251]\n",
      " [220 231 243 246]]\n",
      "Processed Array:\n",
      " [[258   0 255   0]\n",
      " [258   0 245   0]\n",
      " [242   0 259   0]\n",
      " [237   0 248   0]]\n"
     ]
    }
   ],
   "source": [
    "import numpy as np\n",
    "a=[\n",
    "    256, 254, 254, 253,\n",
    "    251 ,255, 240, 243,\n",
    "    240 ,241, 256, 251,\n",
    "    220, 231, 243, 246\n",
    "]\n",
    "a = np.array(a).reshape(4, 4)\n",
    "\n",
    "a1 = np.copy(a)\n",
    "for row in range(4):\n",
    "    for col in range(0,3,2):\n",
    "        x,y = a[row][col],a[row][col+1]\n",
    "        l=np.floor((x+y)/2)\n",
    "        h = abs(x-y)\n",
    "        h1 = 2*h+1\n",
    "        a1[row][col] = l+np.floor((h1+1)/2)\n",
    "        a1[row][col+1]=h-np.floor(h1/2)\n",
    "print(\"Original Array:\\n\", a)\n",
    "print(\"Processed Array:\\n\", a1)"
   ]
  }
 ],
 "metadata": {
  "kernelspec": {
   "display_name": "Python 3",
   "language": "python",
   "name": "python3"
  },
  "language_info": {
   "codemirror_mode": {
    "name": "ipython",
    "version": 3
   },
   "file_extension": ".py",
   "mimetype": "text/x-python",
   "name": "python",
   "nbconvert_exporter": "python",
   "pygments_lexer": "ipython3",
   "version": "3.11.4"
  }
 },
 "nbformat": 4,
 "nbformat_minor": 2
}
