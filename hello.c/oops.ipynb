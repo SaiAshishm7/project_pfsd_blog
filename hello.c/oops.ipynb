{
 "cells": [
  {
   "cell_type": "code",
   "execution_count": null,
   "metadata": {},
   "outputs": [],
   "source": [
    "try:\n",
    "    1/0\n",
    "except Exception as e:\n",
    "    print('hello')\n",
    "    print(e)\n",
    "    with open (\"eroor_file.txt\",\"w\") as file:\n",
    "        file.write(str(e))"
   ]
  },
  {
   "cell_type": "code",
   "execution_count": null,
   "metadata": {},
   "outputs": [],
   "source": [
    "import platform\n",
    "\n",
    "implementation = platform.python_implementation()\n",
    "\n",
    "print(\"pyhton implementation\",implementation)"
   ]
  },
  {
   "cell_type": "code",
   "execution_count": null,
   "metadata": {},
   "outputs": [],
   "source": [
    "import threading\n",
    "\n",
    "def calculate_square(numbers):\n",
    "    for num in numbers:\n",
    "        square = num * num\n",
    "        print(f\"The square of {num} is {square}\")\n",
    "\n",
    "numb_list = [1, 2, 4, 5, 7, 8, 9]\n",
    "mid = len(numb_list) // 2\n",
    "first_half = numb_list[:mid]\n",
    "second_half = numb_list[mid:]\n",
    "\n",
    "print('first half ', first_half)\n",
    "print('second half', second_half)\n",
    "\n",
    "thread1 = threading.Thread(target=calculate_square, args=([first_half]))\n",
    "thread2 = threading.Thread(target=calculate_square, args=([second_half]))\n",
    "\n",
    "thread1.start()\n",
    "thread2.start()"
   ]
  },
  {
   "cell_type": "code",
   "execution_count": null,
   "metadata": {},
   "outputs": [],
   "source": [
    "'''\n",
    "Multithreading is a way of achieving parallelism in Python, which allows a program to perform multiple tasks concurrently, \n",
    "thereby improving the performance and responsiveness of the application. In Python, the threading module is used to handle threads.\n",
    "'''"
   ]
  },
  {
   "cell_type": "code",
   "execution_count": null,
   "metadata": {},
   "outputs": [],
   "source": [
    "import threading\n",
    "import time\n",
    "\n",
    "def print_numb():\n",
    "    for i in range(10):\n",
    "        print(threading.current_thread().name,i)\n",
    "        time.sleep(1)\n",
    "\n",
    "thread1 = threading.Thread(target=print_numb, name = 'thread1')\n",
    "thread2 = threading.Thread(target=print_numb, name = 'thread2')\n",
    "\n",
    "thread1.start()\n",
    "thread2.start()\n",
    "\n",
    "thread1.join()\n",
    "thread2.join()\n",
    "\n",
    "print('execution ended')"
   ]
  },
  {
   "cell_type": "code",
   "execution_count": null,
   "metadata": {},
   "outputs": [],
   "source": [
    "import multiprocessing\n",
    "import time\n",
    "\n",
    "def print_numb():\n",
    "    for i in range(10):\n",
    "        print(multiprocessing.current_process().name,i)\n",
    "        time.sleep(1)\n",
    "\n",
    "    process1 = multiprocessing.Process(target=print_numb, name='process1')\n",
    "    process2 = multiprocessing.Process(target=print_numb, name='process2')\n",
    "\n",
    "    process1.start()\n",
    "    process2.start()\n",
    "\n",
    "    process1.join()\n",
    "    process2.join()\n",
    "\n",
    "print('execution ended')"
   ]
  },
  {
   "cell_type": "code",
   "execution_count": null,
   "metadata": {},
   "outputs": [],
   "source": [
    "\n",
    "class Vehicle:\n",
    "    def __init__(self, name, mileage, capacity):\n",
    "        self.name = name\n",
    "        self.mileage = mileage\n",
    "        self.capacity = capacity\n",
    "\n",
    "class Bus(Vehicle):\n",
    "    pass\n",
    "\n",
    "School_bus = Bus(\"School Volvo\", 12, 50)\n",
    "print(type(School_bus))"
   ]
  },
  {
   "cell_type": "code",
   "execution_count": null,
   "metadata": {},
   "outputs": [],
   "source": [
    "print('WELCOME TO ERP') \n",
    "while(True): \n",
    "  list = ['1.END SEM EVALUATION','2.IN SEM FORMATIVE EVALUATION','3.IN SEM SUMMATIVE EVALUATION','4.exit'] \n",
    "  for i in list: \n",
    "      print(i) \n",
    "  print('\\n') \n",
    "  start = int(input('enter the desired option')) \n",
    " \n",
    "  if(start == 1): \n",
    "    a1= float(input('Enter Skill Sem end Exam')) \n",
    "    r1=(8/50)*a1 \n",
    "    print('Skill Sem end Exam marks(out of 8):',round(r1,1)) \n",
    "    b1= float(input('Enter Semester Exam')) \n",
    "    s1=(24/100)*b1 \n",
    "    print('Semester Exam marks:(out of 24):',round(s1,1)) \n",
    "    c1=float(input('Enter Lab End Semester Exam')) \n",
    "    e1=(8/50)*c1 \n",
    "    print('Lab End Semester Exam marks(out of 8):',round(e1,1))  \n",
    "    print('\\n')  \n",
    "  elif(start == 2): \n",
    "    a=int(input('Enter the Rating on Global platform Marks')) \n",
    "    r=(2/50)*a \n",
    "    print('Rating on Global platform Marks(out of 2):',round(r,1)) \n",
    "    b=int(input('Enter the skilling continuous evaluation Marks')) \n",
    "    s=(5/50)*b \n",
    "    print('skilling continuous evaluation Marks(out of 5):',round(s,1)) \n",
    "    c=int(input('Enter the ALM Marks')) \n",
    "    alm=(8/50)*c \n",
    "    print(alm) \n",
    "    d=int(input('Enter the Home assignment and textbook Marks')) \n",
    "    h=(8/50)*d \n",
    "    print('Home assignment and textbook Marks(out of 8):',round(h,1)) \n",
    "    print('\\n') \n",
    "  elif(start == 3): \n",
    "    a2=int(input('Enter the Sem in 1 Marks')) \n",
    "    r2=(12/50)*a2 \n",
    "    print('Sem in 1 Marks(out of 12):',round(r2,1)) \n",
    "    b2=int(input('Enter the sem in 2 Marks')) \n",
    "    s2=(12/50)*b2 \n",
    "    print('sem in 2 Marks(out of 12):',round(s2,1)) \n",
    "    c2=int(input('Enter the lab in sem Marks')) \n",
    "    alm2=(6/50)*c2 \n",
    "    print('lab in sem Marks(out of 6):',round(alm2,1)) \n",
    "    d2=int(input('Enter the skill in sem marks Marks')) \n",
    "    h2=(6/50)*d2 \n",
    "    print('skill in sem marks Marks(out of 6):',h2) \n",
    "    print('\\n')  \n",
    "  elif(start == 4): \n",
    "    print('EXITIING ERP') \n",
    "    break \n",
    "  else: \n",
    "    print('give valid entry')"
   ]
  },
  {
   "cell_type": "code",
   "execution_count": null,
   "metadata": {},
   "outputs": [],
   "source": [
    "import pandas  as pd\n",
    "df = pd.read_csv(\"/Users/msaiashish/Documents/hello.c/Crop_recommendation.csv\")"
   ]
  },
  {
   "cell_type": "code",
   "execution_count": null,
   "metadata": {},
   "outputs": [],
   "source": [
    "df.head()"
   ]
  },
  {
   "cell_type": "code",
   "execution_count": null,
   "metadata": {},
   "outputs": [],
   "source": [
    "df.isna().sum()"
   ]
  },
  {
   "cell_type": "code",
   "execution_count": null,
   "metadata": {},
   "outputs": [],
   "source": [
    "df['label'].unique()"
   ]
  },
  {
   "cell_type": "code",
   "execution_count": null,
   "metadata": {},
   "outputs": [],
   "source": [
    "pd.value_counts(df['label'])"
   ]
  },
  {
   "cell_type": "code",
   "execution_count": null,
   "metadata": {},
   "outputs": [],
   "source": [
    "pd.Series(df['label']).value_counts()"
   ]
  },
  {
   "cell_type": "code",
   "execution_count": null,
   "metadata": {},
   "outputs": [],
   "source": [
    "print(set(df['label']))"
   ]
  },
  {
   "cell_type": "code",
   "execution_count": null,
   "metadata": {},
   "outputs": [],
   "source": [
    "df.iloc[0, 1]"
   ]
  },
  {
   "cell_type": "code",
   "execution_count": null,
   "metadata": {},
   "outputs": [],
   "source": [
    "df = pd.DataFrame ({'A':[1,2,3,5,4],\n",
    "                   'B' : ['a','b','c','d','e']})\n",
    "df"
   ]
  },
  {
   "cell_type": "code",
   "execution_count": null,
   "metadata": {},
   "outputs": [],
   "source": [
    "df.to_csv('oops.csv', index=False)"
   ]
  },
  {
   "cell_type": "code",
   "execution_count": null,
   "metadata": {},
   "outputs": [],
   "source": [
    "#MRO - method resolution order\n",
    "\n",
    "class A:\n",
    "    def myname(self):\n",
    "        print(\"I am class a\")\n",
    "class B(A):\n",
    "    def  myname(self):\n",
    "        print(\"I am class B\")\n",
    "class C(A):\n",
    "    def nyname(self):\n",
    "        print(\"I am class c\")\n",
    "c=C()\n",
    "c.myname()"
   ]
  },
  {
   "cell_type": "code",
   "execution_count": null,
   "metadata": {},
   "outputs": [],
   "source": [
    "class A:\n",
    "    def myname(self):\n",
    "        print(\"I am class a\")\n",
    "class B(A):\n",
    "    def  myname(self):\n",
    "        print(\"I am class B\")\n",
    "class C(A):\n",
    "    def nyname(self):\n",
    "        print(\"I am class c\")\n",
    "class D(B,C):\n",
    "    pass\n",
    "d=D()\n",
    "d.myname()"
   ]
  },
  {
   "cell_type": "code",
   "execution_count": null,
   "metadata": {},
   "outputs": [],
   "source": [
    "D -> B -> C -> A -> object"
   ]
  },
  {
   "cell_type": "code",
   "execution_count": null,
   "metadata": {},
   "outputs": [],
   "source": [
    "class A:\n",
    "  def process(self):\n",
    "    print(\" A process()\")\n",
    "class B(A):\n",
    "  pass\n",
    "class C(A):\n",
    "  def process(self):\n",
    "    print(\"c process()\")\n",
    "class D(B,C):\n",
    "  pass\n",
    "d=D()\n",
    "d.process()"
   ]
  },
  {
   "cell_type": "code",
   "execution_count": null,
   "metadata": {},
   "outputs": [],
   "source": [
    "'''\n",
    "here in the B and C has same priority but for B to print it takes one step more as B passes but it inherited A 's priority so it will take 2 steps \n",
    "but in the case of C it takes only 1 step thats directly print so it prints C Process\n",
    "'''"
   ]
  },
  {
   "cell_type": "code",
   "execution_count": null,
   "metadata": {},
   "outputs": [],
   "source": [
    "class A:\n",
    "  def process(self):\n",
    "    print(\" A process()\")\n",
    "\n",
    "\n",
    "class B(A):\n",
    "  def process(self):\n",
    "    print(\"B process()\")\n",
    "\n",
    "class C(A,B):\n",
    "  pass\n",
    "\n",
    "c = C()\n",
    "c.process()\n"
   ]
  },
  {
   "cell_type": "code",
   "execution_count": null,
   "metadata": {},
   "outputs": [],
   "source": [
    "t = int(input())\n",
    "for _ in range(t):\n",
    "    a = int(input())\n",
    "    b = int(input())\n",
    "    ar = int(str(a)[::-1])\n",
    "    br = int(str(b)[::-1])\n",
    "    if ar > br:\n",
    "        print(\"Yes\")\n",
    "    else:\n",
    "        print(\"No\")"
   ]
  },
  {
   "cell_type": "code",
   "execution_count": 10,
   "metadata": {},
   "outputs": [
    {
     "name": "stdout",
     "output_type": "stream",
     "text": [
      "0\n",
      "100\n"
     ]
    }
   ],
   "source": [
    "import threading\n",
    "import time\n",
    "\n",
    "class Bankaccount():\n",
    "    def __init__(self,name,balance):\n",
    "        self.name=name\n",
    "        self.balance=balance\n",
    "\n",
    "    def __str__(self):\n",
    "        return self.name\n",
    "    \n",
    "acc1 = Bankaccount(\"Account1\",100)\n",
    "acc2= Bankaccount(\"Account2\",0)\n",
    "\n",
    "lock = threading.Lock()\n",
    "\n",
    "class BanktrandferThread(threading.Thread):\n",
    "    def __init__(self,sender,receiver,amount,lock):\n",
    "        super().__init__()\n",
    "        self.sender=sender\n",
    "        self.receiver=receiver\n",
    "        self.amount = amount\n",
    "        self.lock = lock\n",
    "\n",
    "    def run(self):\n",
    "        self.lock.acquire()\n",
    "        sender_initalbalance = self.sender.balance\n",
    "        sender_initalbalance -= self.amount\n",
    "        time.sleep(0.001)\n",
    "        self.sender.balance = sender_initalbalance\n",
    "\n",
    "        receiver_initialbalance = self.receiver.balance\n",
    "        receiver_initialbalance += self.amount\n",
    "        time.sleep(0.001)\n",
    "\n",
    "        self.receiver.balance = receiver_initialbalance\n",
    "        self.lock.release()\n",
    "\n",
    "if __name__ == \"__main__\":\n",
    "    threads = []\n",
    "    for i in range(100):\n",
    "        threads.append(BanktrandferThread(acc1,acc2,1,lock))\n",
    "\n",
    "    for thread in threads:\n",
    "        thread.start()\n",
    "\n",
    "    for thread in threads:\n",
    "        thread.join()\n",
    "\n",
    "    print(acc1.balance)\n",
    "    print(acc2.balance)"
   ]
  },
  {
   "cell_type": "code",
   "execution_count": null,
   "metadata": {},
   "outputs": [],
   "source": [
    "import threading\n",
    "import time\n",
    "\n",
    "class Bankaccount():\n",
    "    def __init__(self,name,balance):\n",
    "        self.name=name\n",
    "        self.balance=balance\n",
    "\n",
    "    def __str__(self):\n",
    "        return self.name\n",
    "    \n",
    "acc1 = Bankaccount(\"Account1\",100)\n",
    "acc2= Bankaccount(\"Account2\",0)\n",
    "\n",
    "class BanktrandferThread(threading.Thread):\n",
    "    def __init__(self,sender,receiver,amount):\n",
    "        super().__init__()\n",
    "        self.sender=sender\n",
    "        self.receiver=receiver\n",
    "        self.amount = amount\n",
    "\n",
    "    def run(self):\n",
    "        sender_initalbalance = self.sender.balance\n",
    "        sender_initalbalance -= self.amount\n",
    "        time.sleep(0.001)\n",
    "        self.sender.balance = sender_initalbalance\n",
    "\n",
    "        receiver_initialbalance = self.receiver.balance\n",
    "        receiver_initialbalance += self.amount\n",
    "        time.sleep(0.001)\n",
    "\n",
    "        self.receiver.balance = receiver_initialbalance\n",
    "\n",
    "if __name__ == \"__main__\":\n",
    "    threads = []\n",
    "    for i in range(100):\n",
    "        threads.append(BanktrandferThread(acc1,acc2,1))\n",
    "\n",
    "    for thread in threads:\n",
    "        thread.start()\n",
    "\n",
    "    for thread in threads:\n",
    "        thread.join()\n",
    "\n",
    "    print(acc1.balance)\n",
    "    print(acc2.balance)"
   ]
  },
  {
   "cell_type": "code",
   "execution_count": 1,
   "metadata": {},
   "outputs": [
    {
     "name": "stdout",
     "output_type": "stream",
     "text": [
      "Invalid input. Please enter a number between 0 and 2.\n",
      "You win! Paper beats Scissors\n"
     ]
    }
   ],
   "source": [
    "import random\n",
    "\n",
    "options = [\"Scissors\", \"Rock\", \"Paper\"]\n",
    "\n",
    "computer_choice = random.randint(0, 2)\n",
    "\n",
    "while True:\n",
    "  try:\n",
    "    user_choice = int(input(\"Enter your choice (0 - Scissors, 1 - Rock, 2 - Paper): \"))\n",
    "    if user_choice not in range(len(options)):\n",
    "      raise ValueError\n",
    "    break\n",
    "  except ValueError:\n",
    "    print(\"Invalid input. Please enter a number between 0 and 2.\")\n",
    "\n",
    "if user_choice == computer_choice:\n",
    "  print(\"It's a tie!\")\n",
    "elif (user_choice + 1) % 3 == computer_choice:\n",
    "  print(f\"You win! {options[user_choice]} beats {options[computer_choice]}\")\n",
    "else:\n",
    "  print(f\"You lose! {options[computer_choice]} beats {options[user_choice]}\")\n"
   ]
  },
  {
   "cell_type": "code",
   "execution_count": 6,
   "metadata": {},
   "outputs": [
    {
     "name": "stdout",
     "output_type": "stream",
     "text": [
      "Total Area: 48.27433388230814\n"
     ]
    }
   ],
   "source": [
    "import math\n",
    "from zope.interface import Interface, implementer\n",
    "\n",
    "class IShape(Interface):\n",
    "\n",
    "    def area(self):\n",
    "        pass\n",
    "\n",
    "@implementer(IShape)\n",
    "class Rectangle:\n",
    "    def __init__(self,length,breadth):\n",
    "        self.length = length\n",
    "        self.breadth = breadth\n",
    "\n",
    "    def area(self):\n",
    "        return self.length * self.breadth\n",
    "    \n",
    "@implementer(IShape)\n",
    "class Circle:\n",
    "    def __init__(self,radius):\n",
    "        self.radius = radius\n",
    "\n",
    "    def area(self):\n",
    "        return math.pi * self.radius**2\n",
    "\n",
    "# class Square:\n",
    "#     def __init__(self,length):\n",
    "#         self.length = length\n",
    "\n",
    "#     def area(self):\n",
    "#         return self.length**2\n",
    "    \n",
    "def calculate_total_area(shapes):\n",
    "    total_area = 0\n",
    "    for shape in shapes:\n",
    "        total_area+=shape.area()\n",
    "    return total_area\n",
    "\n",
    "rect = Rectangle(5, 4)\n",
    "cir = Circle(3)\n",
    "# sqr = Square(5)\n",
    "area = calculate_total_area([rect, cir])\n",
    "print(\"Total Area:\",area)"
   ]
  },
  {
   "cell_type": "code",
   "execution_count": 1,
   "metadata": {},
   "outputs": [
    {
     "name": "stderr",
     "output_type": "stream",
     "text": [
      "2024-05-02 21:14:39.345 Python[82439:3362845] WARNING: Secure coding is not enabled for restorable state! Enable secure coding by implementing NSApplicationDelegate.applicationSupportsSecureRestorableState: and returning YES.\n",
      "Exception in Tkinter callback\n",
      "Traceback (most recent call last):\n",
      "  File \"/Library/Frameworks/Python.framework/Versions/3.11/lib/python3.11/tkinter/__init__.py\", line 1948, in __call__\n",
      "    return self.func(*args)\n",
      "           ^^^^^^^^^^^^^^^^\n",
      "  File \"/var/folders/3z/n3zt03j540sfzglrcr5gp1hw0000gn/T/ipykernel_82439/1397503190.py\", line 14, in <lambda>\n",
      "    button = tk.Button(self.master, text=\" \", font=(\"Arial\", 20), width=3, height=1, command=lambda row=i: self.play(row))\n",
      "                                                                                                           ^^^^^^^^^^^^^^\n",
      "  File \"/var/folders/3z/n3zt03j540sfzglrcr5gp1hw0000gn/T/ipykernel_82439/1397503190.py\", line 23, in play\n",
      "    self.show_winner(self.current_player)\n",
      "  File \"/var/folders/3z/n3zt03j540sfzglrcr5gp1hw0000gn/T/ipykernel_82439/1397503190.py\", line 49, in show_winner\n",
      "    tk.messagebox.showinfo(\"Game Over\", message)\n",
      "    ^^^^^^^^^^^^^\n",
      "AttributeError: module 'tkinter' has no attribute 'messagebox'\n",
      "Exception in Tkinter callback\n",
      "Traceback (most recent call last):\n",
      "  File \"/Library/Frameworks/Python.framework/Versions/3.11/lib/python3.11/tkinter/__init__.py\", line 1948, in __call__\n",
      "    return self.func(*args)\n",
      "           ^^^^^^^^^^^^^^^^\n",
      "  File \"/var/folders/3z/n3zt03j540sfzglrcr5gp1hw0000gn/T/ipykernel_82439/1397503190.py\", line 14, in <lambda>\n",
      "    button = tk.Button(self.master, text=\" \", font=(\"Arial\", 20), width=3, height=1, command=lambda row=i: self.play(row))\n",
      "                                                                                                           ^^^^^^^^^^^^^^\n",
      "  File \"/var/folders/3z/n3zt03j540sfzglrcr5gp1hw0000gn/T/ipykernel_82439/1397503190.py\", line 23, in play\n",
      "    self.show_winner(self.current_player)\n",
      "  File \"/var/folders/3z/n3zt03j540sfzglrcr5gp1hw0000gn/T/ipykernel_82439/1397503190.py\", line 49, in show_winner\n",
      "    tk.messagebox.showinfo(\"Game Over\", message)\n",
      "    ^^^^^^^^^^^^^\n",
      "AttributeError: module 'tkinter' has no attribute 'messagebox'\n",
      "Exception in Tkinter callback\n",
      "Traceback (most recent call last):\n",
      "  File \"/Library/Frameworks/Python.framework/Versions/3.11/lib/python3.11/tkinter/__init__.py\", line 1948, in __call__\n",
      "    return self.func(*args)\n",
      "           ^^^^^^^^^^^^^^^^\n",
      "  File \"/var/folders/3z/n3zt03j540sfzglrcr5gp1hw0000gn/T/ipykernel_82439/1397503190.py\", line 14, in <lambda>\n",
      "    button = tk.Button(self.master, text=\" \", font=(\"Arial\", 20), width=3, height=1, command=lambda row=i: self.play(row))\n",
      "                                                                                                           ^^^^^^^^^^^^^^\n",
      "  File \"/var/folders/3z/n3zt03j540sfzglrcr5gp1hw0000gn/T/ipykernel_82439/1397503190.py\", line 23, in play\n",
      "    self.show_winner(self.current_player)\n",
      "  File \"/var/folders/3z/n3zt03j540sfzglrcr5gp1hw0000gn/T/ipykernel_82439/1397503190.py\", line 49, in show_winner\n",
      "    tk.messagebox.showinfo(\"Game Over\", message)\n",
      "    ^^^^^^^^^^^^^\n",
      "AttributeError: module 'tkinter' has no attribute 'messagebox'\n"
     ]
    },
    {
     "ename": "",
     "evalue": "",
     "output_type": "error",
     "traceback": [
      "\u001b[1;31mThe Kernel crashed while executing code in the current cell or a previous cell. \n",
      "\u001b[1;31mPlease review the code in the cell(s) to identify a possible cause of the failure. \n",
      "\u001b[1;31mClick <a href='https://aka.ms/vscodeJupyterKernelCrash'>here</a> for more info. \n",
      "\u001b[1;31mView Jupyter <a href='command:jupyter.viewOutput'>log</a> for further details."
     ]
    }
   ],
   "source": [
    "import tkinter as tk\n",
    "\n",
    "class TicTacToe:\n",
    "    def __init__(self, master):\n",
    "        self.master = master\n",
    "        self.master.title(\"Tic Tac Toe\")\n",
    "        self.board = [\" \"] * 9\n",
    "        self.current_player = \"X\"\n",
    "        self.create_board()\n",
    "\n",
    "    def create_board(self):\n",
    "        self.buttons = []\n",
    "        for i in range(9):\n",
    "            button = tk.Button(self.master, text=\" \", font=(\"Arial\", 20), width=3, height=1, command=lambda row=i: self.play(row))\n",
    "            button.grid(row=i//3, column=i%3)\n",
    "            self.buttons.append(button)\n",
    "\n",
    "    def play(self, row):\n",
    "        if self.board[row] == \" \":\n",
    "            self.buttons[row].config(text=self.current_player)\n",
    "            self.board[row] = self.current_player\n",
    "            if self.check_winner():\n",
    "                self.show_winner(self.current_player)\n",
    "            else:\n",
    "                if \" \" not in self.board:\n",
    "                    self.show_winner(\"Tie\")\n",
    "                else:\n",
    "                    self.switch_player()\n",
    "\n",
    "    def check_winner(self):\n",
    "        winner = False\n",
    "        for i in range(0, 9, 3):\n",
    "            if self.board[i] == self.board[i+1] == self.board[i+2] != \" \":\n",
    "                winner = True\n",
    "        for i in range(3):\n",
    "            if self.board[i] == self.board[i+3] == self.board[i+6] != \" \":\n",
    "                winner = True\n",
    "        if self.board[0] == self.board[4] == self.board[8] != \" \":\n",
    "            winner = True\n",
    "        if self.board[2] == self.board[4] == self.board[6] != \" \":\n",
    "            winner = True\n",
    "        return winner\n",
    "\n",
    "    def show_winner(self, player):\n",
    "        if player == \"Tie\":\n",
    "            message = \"It's a tie!\"\n",
    "        else:\n",
    "            message = f\"{player} wins!\"\n",
    "        tk.messagebox.showinfo(\"Game Over\", message)\n",
    "        self.reset_game()\n",
    "\n",
    "    def switch_player(self):\n",
    "        self.current_player = \"O\" if self.current_player == \"X\" else \"X\"\n",
    "\n",
    "    def reset_game(self):\n",
    "        self.board = [\" \"] * 9\n",
    "        for button in self.buttons:\n",
    "            button.config(text=\" \")\n",
    "        self.current_player = \"X\"\n",
    "\n",
    "root = tk.Tk()\n",
    "game = TicTacToe(root)\n",
    "root.mainloop()"
   ]
  },
  {
   "cell_type": "code",
   "execution_count": 1,
   "metadata": {},
   "outputs": [
    {
     "name": "stderr",
     "output_type": "stream",
     "text": [
      "2024-05-02 21:15:46.116 Python[82470:3363756] WARNING: Secure coding is not enabled for restorable state! Enable secure coding by implementing NSApplicationDelegate.applicationSupportsSecureRestorableState: and returning YES.\n"
     ]
    },
    {
     "ename": "",
     "evalue": "",
     "output_type": "error",
     "traceback": [
      "\u001b[1;31mThe Kernel crashed while executing code in the current cell or a previous cell. \n",
      "\u001b[1;31mPlease review the code in the cell(s) to identify a possible cause of the failure. \n",
      "\u001b[1;31mClick <a href='https://aka.ms/vscodeJupyterKernelCrash'>here</a> for more info. \n",
      "\u001b[1;31mView Jupyter <a href='command:jupyter.viewOutput'>log</a> for further details."
     ]
    }
   ],
   "source": [
    "import tkinter as tk\n",
    "from tkinter import ttk\n",
    "\n",
    "class ToDoList:\n",
    "    def __init__(self, master):\n",
    "        self.master = master\n",
    "        self.master.title(\"To-Do List\")\n",
    "\n",
    "        self.tasks = []\n",
    "\n",
    "        # Create main frame\n",
    "        self.main_frame = ttk.Frame(self.master)\n",
    "        self.main_frame.pack(padx=20, pady=20)\n",
    "\n",
    "        # Create task entry\n",
    "        self.task_entry = ttk.Entry(self.main_frame, font=(\"Arial\", 14))\n",
    "        self.task_entry.pack(pady=10)\n",
    "\n",
    "        # Create add task button\n",
    "        self.add_button = ttk.Button(self.main_frame, text=\"Add Task\", command=self.add_task)\n",
    "        self.add_button.pack(pady=5)\n",
    "\n",
    "        # Create task list\n",
    "        self.task_list = tk.Listbox(self.main_frame, font=(\"Arial\", 12), width=30, height=10)\n",
    "        self.task_list.pack(pady=10)\n",
    "\n",
    "        # Create delete task button\n",
    "        self.delete_button = ttk.Button(self.main_frame, text=\"Delete Task\", command=self.delete_task)\n",
    "        self.delete_button.pack(pady=5)\n",
    "\n",
    "    def add_task(self):\n",
    "        task = self.task_entry.get()\n",
    "        if task:\n",
    "            self.tasks.append(task)\n",
    "            self.task_list.insert(tk.END, task)\n",
    "            self.task_entry.delete(0, tk.END)\n",
    "\n",
    "    def delete_task(self):\n",
    "        try:\n",
    "            task_index = self.task_list.curselection()[0]\n",
    "            self.task_list.delete(task_index)\n",
    "            self.tasks.pop(task_index)\n",
    "        except IndexError:\n",
    "            pass\n",
    "\n",
    "root = tk.Tk()\n",
    "app = ToDoList(root)\n",
    "root.mainloop()"
   ]
  },
  {
   "cell_type": "code",
   "execution_count": 4,
   "metadata": {},
   "outputs": [
    {
     "name": "stdout",
     "output_type": "stream",
     "text": [
      "7\n"
     ]
    }
   ],
   "source": [
    "def score_words(words):\n",
    "    return sum(len(word) for word in words)\n",
    "\n",
    "import sys\n",
    "\n",
    "n = int(input().strip())\n",
    "words = input().strip().split()\n",
    "result = score_words(words)\n",
    "print(result)"
   ]
  }
 ],
 "metadata": {
  "kernelspec": {
   "display_name": "base",
   "language": "python",
   "name": "python3"
  },
  "language_info": {
   "codemirror_mode": {
    "name": "ipython",
    "version": 3
   },
   "file_extension": ".py",
   "mimetype": "text/x-python",
   "name": "python",
   "nbconvert_exporter": "python",
   "pygments_lexer": "ipython3",
   "version": "3.11.4"
  }
 },
 "nbformat": 4,
 "nbformat_minor": 2
}
