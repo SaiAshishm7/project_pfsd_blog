{
 "cells": [
  {
   "cell_type": "code",
   "execution_count": 7,
   "metadata": {},
   "outputs": [
    {
     "name": "stdout",
     "output_type": "stream",
     "text": [
      "Loan has been sanctioned with an amount of 10000\n",
      "Yearly payment is :800.0\n",
      "Total amount payable is: 13200.0\n",
      "Loan sanctioned for student Ashish with an amount of 1500000\n",
      "Loan cleared for student Ashish with a total amount of 2016000.0\n"
     ]
    }
   ],
   "source": [
    "class Loan:\n",
    "    def __init__(self, principle, rate, time):\n",
    "        self.principle = principle\n",
    "        self.rate = rate\n",
    "        self.time = time\n",
    "    \n",
    "    def yearly_payment(self):\n",
    "        return self.principle * self.rate / 100\n",
    "    \n",
    "    def loan_sanctioned(self):\n",
    "        return f'Loan has been sanctioned with an amount of {self.principle}'\n",
    "    \n",
    "    def total_amt_payable(self):\n",
    "        return self.principle + (self.principle * self.rate * self.time) / 100\n",
    "    \n",
    "\n",
    "class Student_loan:\n",
    "    def __init__(self, name, time, principle, rate):\n",
    "        self.name = name\n",
    "        self.time = time\n",
    "        self.principle = principle\n",
    "        self.rate = rate\n",
    "\n",
    "    def loan_sanctioned(self):\n",
    "        return f'Loan sanctioned for student {self.name} with an amount of {self.principle}'\n",
    "    \n",
    "    def loan_cleared(self):\n",
    "        total_amt_payable = self.principle + (self.principle * self.rate * self.time) / 100\n",
    "        return f'Loan cleared for student {self.name} with a total amount of {total_amt_payable}'\n",
    "\n",
    "loan1 = Loan(10000,8,4)\n",
    "print(loan1.loan_sanctioned())\n",
    "print(f\"Yearly payment is :{loan1.yearly_payment()}\")\n",
    "print(f\"Total amount payable is: {loan1.total_amt_payable()}\")\n",
    "student1 = Student_loan('Ashish',4,1500000,8.6)\n",
    "print(student1.loan_sanctioned())\n",
    "print(student1.loan_cleared())"
   ]
  },
  {
   "cell_type": "code",
   "execution_count": null,
   "metadata": {},
   "outputs": [],
   "source": [
    "class Patient:\n",
    "    def __init__(self, name, age, gender, patient_id):\n",
    "        self.name = name\n",
    "        self.age = age\n",
    "        self.gender = gender\n",
    "        self.patient_id = patient_id\n",
    "\n",
    "    def admit(self):\n",
    "        print(f'Patient {self.name} has been admitted. Patient ID: {self.patient_id}')\n",
    "\n",
    "    def discharge(self):\n",
    "        print(f'Patient {self.name} has been discharged. Patient ID: {self.patient_id}')\n",
    "\n",
    "    def doc_details(self, name, specialization, doc_id):\n",
    "        self.doc_name = name\n",
    "        self.specialization = specialization\n",
    "        self.doc_id = doc_id\n",
    "\n",
    "\n",
    "class Appointment:\n",
    "    def __init__(self, appointment_id, date, time, patient, doctor):\n",
    "        self.appointment_id = appointment_id\n",
    "        self.date = date\n",
    "        self.time = time\n",
    "        self.patient = patient\n",
    "        self.doctor = doctor\n",
    "\n",
    "    def schedule_appointment(self):\n",
    "        print(f'Appointment scheduled for {self.date} at {self.time} with {self.doctor[\"name\"]}.')\n",
    "\n",
    "\n",
    "patient1 = Patient(\"cyrus\", 30, \"M\", \"P001\")\n",
    "patient1.admit()\n",
    "patient1.discharge()\n",
    "doc_1 = {\"name\": \"Dr. Zeus\", \"specialization\": \"Cardiology\", \"doc_id\": \"D001\"}\n",
    "appointment1 = Appointment(\"A001\", \"2024-03-22\", \"10:00 AM\", patient1, doc_1)\n",
    "\n",
    "appointment1.schedule_appointment()"
   ]
  },
  {
   "cell_type": "code",
   "execution_count": 10,
   "metadata": {},
   "outputs": [
    {
     "data": {
      "text/plain": [
       "'2.2.2'"
      ]
     },
     "execution_count": 10,
     "metadata": {},
     "output_type": "execute_result"
    }
   ],
   "source": [
    "import pandas as pd\n",
    "pd.__version__"
   ]
  },
  {
   "cell_type": "code",
   "execution_count": null,
   "metadata": {},
   "outputs": [],
   "source": [
    "import pandas as pd\n",
    "df = pd.read_csv()"
   ]
  }
 ],
 "metadata": {
  "kernelspec": {
   "display_name": "Python 3",
   "language": "python",
   "name": "python3"
  },
  "language_info": {
   "codemirror_mode": {
    "name": "ipython",
    "version": 3
   },
   "file_extension": ".py",
   "mimetype": "text/x-python",
   "name": "python",
   "nbconvert_exporter": "python",
   "pygments_lexer": "ipython3",
   "version": "3.11.4"
  }
 },
 "nbformat": 4,
 "nbformat_minor": 2
}
